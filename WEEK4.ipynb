{
  "nbformat": 4,
  "nbformat_minor": 0,
  "metadata": {
    "colab": {
      "provenance": []
    },
    "kernelspec": {
      "name": "python3",
      "display_name": "Python 3"
    },
    "language_info": {
      "name": "python"
    }
  },
  "cells": [
    {
      "cell_type": "code",
      "execution_count": null,
      "metadata": {
        "id": "iE6Mz86uM249"
      },
      "outputs": [],
      "source": []
    },
    {
      "cell_type": "code",
      "execution_count": null,
      "metadata": {
        "id": "parltUz3M5q3"
      },
      "outputs": [],
      "source": []
    },
    {
      "cell_type": "markdown",
      "source": [
        "priority"
      ],
      "metadata": {
        "id": "ZIhIdHTLNlqN"
      }
    },
    {
      "cell_type": "code",
      "source": [
        "import heapq\n",
        "\n",
        "priority_queue = []\n",
        "\n",
        "def add_student(name, score):\n",
        "  heapq.heappush(priority_queue, (-score, name))\n",
        "  print(f\"Added: {name} with score {score}\")\n",
        "\n",
        "def pop_top_student():\n",
        "  if priority_queue:\n",
        "    score, name = heapq.heappop(priority_queue)\n",
        "    print(f\"Selected for top priority: {name} with score {-score}\")\n",
        "  else:\n",
        "    print(\"No students in the queue.\")\n",
        "\n",
        "add_student(\"Alice\", 92)\n",
        "add_student(\"Bob\", 85)\n",
        "add_student(\"Charlie\", 95)\n",
        "add_student(\"Diana\", 88)\n",
        "\n",
        "print(\"\\n---Processing Students by priority---\")\n",
        "\n",
        "pop_top_student()\n",
        "pop_top_student()\n",
        "pop_top_student()\n",
        "pop_top_student()"
      ],
      "metadata": {
        "colab": {
          "base_uri": "https://localhost:8080/"
        },
        "id": "aZQoF3qmQeji",
        "outputId": "7aa1d748-00fc-4f75-ca64-0e7fb65b7c81"
      },
      "execution_count": null,
      "outputs": [
        {
          "output_type": "stream",
          "name": "stdout",
          "text": [
            "Added: Alice with score 92\n",
            "Added: Bob with score 85\n",
            "Added: Charlie with score 95\n",
            "Added: Diana with score 88\n",
            "\n",
            "---Processing Students by priority---\n",
            "Selected for top priority: Charlie with score 95\n",
            "Selected for top priority: Alice with score 92\n",
            "Selected for top priority: Diana with score 88\n",
            "Selected for top priority: Bob with score 85\n"
          ]
        }
      ]
    }
  ]
}