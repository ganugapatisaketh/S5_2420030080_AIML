{
  "nbformat": 4,
  "nbformat_minor": 0,
  "metadata": {
    "colab": {
      "provenance": []
    },
    "kernelspec": {
      "name": "python3",
      "display_name": "Python 3"
    },
    "language_info": {
      "name": "python"
    }
  },
  "cells": [
    {
      "cell_type": "code",
      "execution_count": null,
      "metadata": {
        "id": "liBp6gDnFVrV"
      },
      "outputs": [],
      "source": []
    },
    {
      "cell_type": "code",
      "source": [],
      "metadata": {
        "id": "AITRoBB4GOvf"
      },
      "execution_count": null,
      "outputs": []
    },
    {
      "cell_type": "markdown",
      "source": [
        "# My first program\n"
      ],
      "metadata": {
        "id": "MnhL0fzNGYej"
      }
    },
    {
      "cell_type": "code",
      "source": [
        "print(\"hello, world!\")"
      ],
      "metadata": {
        "colab": {
          "base_uri": "https://localhost:8080/"
        },
        "id": "PbMsyb_pGi4l",
        "outputId": "82376cd2-aa3a-4a00-9c8a-db49b9dbca62"
      },
      "execution_count": null,
      "outputs": [
        {
          "output_type": "stream",
          "name": "stdout",
          "text": [
            "hello, world!\n"
          ]
        }
      ]
    },
    {
      "cell_type": "markdown",
      "source": [
        "Python data types"
      ],
      "metadata": {
        "id": "zwhBk8WoHaSS"
      }
    },
    {
      "cell_type": "code",
      "source": [
        "x=5\n",
        "y=\"john\"\n",
        "z='c'\n",
        "print(x)\n",
        "print(y)\n",
        "print(z)\n"
      ],
      "metadata": {
        "colab": {
          "base_uri": "https://localhost:8080/"
        },
        "id": "8pAN082uHcLe",
        "outputId": "cde37a03-4c85-442f-bfd9-3f3380fb8f1c"
      },
      "execution_count": null,
      "outputs": [
        {
          "output_type": "stream",
          "name": "stdout",
          "text": [
            "5\n",
            "john\n",
            "c\n"
          ]
        }
      ]
    },
    {
      "cell_type": "markdown",
      "source": [
        "2nd code"
      ],
      "metadata": {
        "id": "jnjxtBR3Lu89"
      }
    },
    {
      "cell_type": "code",
      "source": [
        "x=int(3)\n",
        "y=float(3.14)\n",
        "z=str(9)\n",
        "print(x,y,z)"
      ],
      "metadata": {
        "colab": {
          "base_uri": "https://localhost:8080/"
        },
        "id": "JHHob0DLMLaJ",
        "outputId": "915a2188-daf7-4c21-89b6-e4c76ea5361b"
      },
      "execution_count": null,
      "outputs": [
        {
          "output_type": "stream",
          "name": "stdout",
          "text": [
            "3 3.14 9\n"
          ]
        }
      ]
    },
    {
      "cell_type": "markdown",
      "source": [
        "3rd code"
      ],
      "metadata": {
        "id": "Q3SYQqfWMyI8"
      }
    },
    {
      "cell_type": "code",
      "source": [
        "x=5\n",
        "y=\"John\"\n",
        "print(x)\n",
        "print(y)"
      ],
      "metadata": {
        "colab": {
          "base_uri": "https://localhost:8080/"
        },
        "id": "qnnLJyIMM3eq",
        "outputId": "87d18aa7-2d1a-47ad-e251-afefe4dd2fb4"
      },
      "execution_count": null,
      "outputs": [
        {
          "output_type": "stream",
          "name": "stdout",
          "text": [
            "5\n",
            "John\n"
          ]
        }
      ]
    },
    {
      "cell_type": "code",
      "source": [],
      "metadata": {
        "id": "DhmEPO_9Nesm"
      },
      "execution_count": null,
      "outputs": []
    },
    {
      "cell_type": "markdown",
      "source": [
        "4th code"
      ],
      "metadata": {
        "id": "oKY7e3C5NfPL"
      }
    },
    {
      "cell_type": "code",
      "source": [
        "# list\n",
        "fruits = [\"apple\", \"banana\", \"cherry\"]\n",
        "x, y, z = fruits\n",
        "print(x)\n",
        "print(y)\n",
        "print(fruits)\n",
        "\n",
        "# tuple\n",
        "thistuple = (\"apple\", \"banana\", \"cherry\", \"apple\", \"cherry\")\n",
        "print(thistuple)\n",
        "thistuple1 = (\"apple\", \"banana\", \"cherry\", \"apple\", \"cherry\", 3, 5, 6, 'grapes')\n",
        "print(thistuple1)\n",
        "\n",
        "# set\n",
        "thisset = {\"banana\", \"apple\", \"cherry\", False, 1, 2}\n",
        "print(thisset)\n",
        "\n",
        "# dictionary\n",
        "thisdict = {\n",
        " \"brand\": \"Ford\",\n",
        " \"model\": \"Mustang\",\n",
        " \"year\": 1964\n",
        "}\n",
        "print(thisdict)\n",
        "\n",
        "# string concatenation\n",
        "x = \"Python \"\n",
        "y = \"is \"\n",
        "z = \"awesome\"\n",
        "print(x + y + z)\n",
        "\n",
        "# printing different data types\n",
        "x = 5\n",
        "y = \"John\"\n",
        "print(x, y)\n",
        "\n",
        "# system version\n",
        "import sys\n",
        "print(sys.version)"
      ],
      "metadata": {
        "id": "SS_sEnisNifG",
        "colab": {
          "base_uri": "https://localhost:8080/"
        },
        "outputId": "d18bc326-b56c-4713-ac32-c9df2d16ca4b"
      },
      "execution_count": null,
      "outputs": [
        {
          "output_type": "stream",
          "name": "stdout",
          "text": [
            "apple\n",
            "banana\n",
            "['apple', 'banana', 'cherry']\n",
            "('apple', 'banana', 'cherry', 'apple', 'cherry')\n",
            "('apple', 'banana', 'cherry', 'apple', 'cherry', 3, 5, 6, 'grapes')\n",
            "{False, 1, 'apple', 2, 'cherry', 'banana'}\n",
            "{'brand': 'Ford', 'model': 'Mustang', 'year': 1964}\n",
            "Python is awesome\n",
            "5 John\n",
            "3.12.11 (main, Jun  4 2025, 08:56:18) [GCC 11.4.0]\n"
          ]
        }
      ]
    },
    {
      "cell_type": "code",
      "source": [
        "if 5 > 2:\n",
        " print(\"Five is greater than two!\")\n",
        "if 5 > 2:\n",
        " print(\"Five is greater than two!\")\n",
        "if 5 > 1:\n",
        " print(\"Five is greater than one!\")\n",
        "a = 33\n",
        "b = 33\n",
        "if b > a:\n",
        " print(\"b is greater than a\")\n",
        "elif a == b:\n",
        " print(\"a and b are equal\")\n",
        "a = 200\n",
        "b = 33\n",
        "if b > a:\n",
        " print(\"b is greater than a\")\n",
        "elif a == b:\n",
        " print(\"a and b are equal\")\n",
        "else:\n",
        " print(\"a is greater than b\")\n",
        "i = 1\n",
        "while i < 6:\n",
        " print(i)\n",
        " i += 1\n",
        "fruits = [\"apple\", \"banana\", \"cherry\"]\n",
        "for x in fruits:\n",
        " print(x)\n",
        "for x in range(7):\n",
        " print(x)\n",
        "else:\n",
        " print(\"Finally finished!\")"
      ],
      "metadata": {
        "colab": {
          "base_uri": "https://localhost:8080/"
        },
        "id": "FNx8R-fQi72R",
        "outputId": "268a2920-4fa0-4c22-b314-88cf8ee55b94"
      },
      "execution_count": null,
      "outputs": [
        {
          "output_type": "stream",
          "name": "stdout",
          "text": [
            "Five is greater than two!\n",
            "Five is greater than two!\n",
            "Five is greater than one!\n",
            "a and b are equal\n",
            "a is greater than b\n",
            "1\n",
            "2\n",
            "3\n",
            "4\n",
            "5\n",
            "apple\n",
            "banana\n",
            "cherry\n",
            "0\n",
            "1\n",
            "2\n",
            "3\n",
            "4\n",
            "5\n",
            "6\n",
            "Finally finished!\n"
          ]
        }
      ]
    },
    {
      "cell_type": "code",
      "source": [
        "x = \"awesome\"\n",
        "def myfunc():\n",
        " print(\"Python is \" + x)\n",
        "myfunc()\n",
        "x = \"awesome\"\n",
        "def myfunc():\n",
        " x = \"fantastic\"\n",
        " print(\"Python is \" + x)\n",
        "myfunc()\n",
        "print(\"Python is \" + x)"
      ],
      "metadata": {
        "colab": {
          "base_uri": "https://localhost:8080/"
        },
        "id": "uTvXRXYAjHg5",
        "outputId": "9dad1e85-3509-4992-f80d-cb7d52713639"
      },
      "execution_count": null,
      "outputs": [
        {
          "output_type": "stream",
          "name": "stdout",
          "text": [
            "Python is awesome\n",
            "Python is fantastic\n",
            "Python is awesome\n"
          ]
        }
      ]
    }
  ]
}