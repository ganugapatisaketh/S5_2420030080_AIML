{
  "nbformat": 4,
  "nbformat_minor": 0,
  "metadata": {
    "colab": {
      "provenance": []
    },
    "kernelspec": {
      "name": "python3",
      "display_name": "Python 3"
    },
    "language_info": {
      "name": "python"
    }
  },
  "cells": [
    {
      "cell_type": "code",
      "execution_count": 1,
      "metadata": {
        "colab": {
          "base_uri": "https://localhost:8080/"
        },
        "id": "Y5L2Gnn7hV4M",
        "outputId": "035ff1ec-3d14-4d6b-c9d3-545e328fa2ea"
      },
      "outputs": [
        {
          "output_type": "stream",
          "name": "stdout",
          "text": [
            "A A B C A B D E C F A B D E C F "
          ]
        }
      ],
      "source": [
        "#iddfs\n",
        "def dls(g, node, depth, visited):\n",
        "    if depth >= 0:\n",
        "        print(node, end=\" \")\n",
        "        visited.add(node)\n",
        "        if depth:\n",
        "            for n in g[node]:\n",
        "                if n not in visited:\n",
        "                    dls(g, n, depth-1, visited)\n",
        "\n",
        "def iddfs(g, start, max_depth):\n",
        "    for d in range(max_depth+1):\n",
        "        dls(g, start, d, set())\n",
        "\n",
        "# Example usage\n",
        "g = {\n",
        "    'A': ['B', 'C'],\n",
        "    'B': ['D', 'E'],\n",
        "    'C': ['F'],\n",
        "    'D': [], 'E': [], 'F': []\n",
        "}\n",
        "iddfs(g, 'A', 3)"
      ]
    },
    {
      "cell_type": "code",
      "source": [
        "#a*\n",
        "from heapq import heappush, heappop\n",
        "\n",
        "def astar(start, goal, h, neighbors):\n",
        "    open_set = [(h(start), 0, start, [start])]\n",
        "    visited = set()\n",
        "    while open_set:\n",
        "        est, cost, node, path = heappop(open_set)\n",
        "        if node == goal: return path\n",
        "        if node in visited: continue\n",
        "        visited.add(node)\n",
        "        for neigh, w in neighbors(node):\n",
        "            if neigh not in visited:\n",
        "                g = cost + w\n",
        "                heappush(open_set, (g + h(neigh), g, neigh, path + [neigh]))\n",
        "\n",
        "# Example graph\n",
        "graph = {\n",
        "    'A': {'B': 1, 'C': 3},\n",
        "    'B': {'D': 1, 'E': 5},\n",
        "    'C': {'F': 2},\n",
        "    'D': {}, 'E': {}, 'F': {}\n",
        "}\n",
        "\n",
        "def neighbors(n): return [(k, v) for k, v in graph[n].items()]\n",
        "def h(n): return {'A':4, 'B':3, 'C':2, 'D':0, 'E':0, 'F':0}[n]\n",
        "\n",
        "print(astar('A', 'D', h, neighbors))\n"
      ],
      "metadata": {
        "colab": {
          "base_uri": "https://localhost:8080/"
        },
        "id": "ZZRzJZyRhtXF",
        "outputId": "9ac3d0e5-5b83-4250-9d91-4b085df1ad7f"
      },
      "execution_count": 2,
      "outputs": [
        {
          "output_type": "stream",
          "name": "stdout",
          "text": [
            "['A', 'B', 'D']\n"
          ]
        }
      ]
    }
  ]
}